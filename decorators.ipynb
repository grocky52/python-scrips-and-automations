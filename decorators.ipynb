{
 "cells": [
  {
   "cell_type": "code",
   "execution_count": null,
   "metadata": {},
   "outputs": [],
   "source": [
    "#decorators\n",
    "def decorator_function(update_func):\n",
    "    def wrapper_func():\n",
    "        return update_func() #update func been executed here\n",
    "        \n",
    "    return wrapper_func() #main func returning inner func\n",
    "\n",
    "def update():\n",
    "    print('here we are')\n",
    "\n",
    "return_main = decorator_function(update) #main func calling update as a parameter"
   ]
  },
  {
   "cell_type": "code",
   "execution_count": 15,
   "metadata": {},
   "outputs": [
    {
     "name": "stdout",
     "output_type": "stream",
     "text": [
      "here we are\n"
     ]
    }
   ],
   "source": [
    "def decorator_function(update_func):\n",
    "    def wrapper_func():\n",
    "        return update_func() #update func been executed here\n",
    "        \n",
    "    return wrapper_func #main func returning inner func\n",
    "\n",
    "@decorator_function #this meand update = decorator_func(update)\n",
    "def update():\n",
    "    print('here we are')\n",
    "\n",
    "    #we dont include func call here because its already up there\n",
    "update()\n"
   ]
  },
  {
   "cell_type": "code",
   "execution_count": 11,
   "metadata": {},
   "outputs": [
    {
     "name": "stdout",
     "output_type": "stream",
     "text": [
      "his name is james and age is 26\n",
      "here we are\n"
     ]
    }
   ],
   "source": [
    "def decorator_function(functs):\n",
    "    def wrapper_func(*args, **kwargs):\n",
    "        return functs(*args, **kwargs) #update func been executed here\n",
    "        \n",
    "    return wrapper_func #main func returning inner func\n",
    "\n",
    "@decorator_function #this meand update = decorator_func(update\n",
    "def update():\n",
    "    print('here we are')\n",
    "\n",
    "    #we dont include func call here because its already up there\n",
    "\n",
    "@decorator_function\n",
    "def display_infor(name, age):\n",
    "    print(f'his name is {name} and age is {age}')\n",
    "\n",
    "display_infor('james', 26)\n",
    "update() \n",
    "\n",
    "\n",
    "\n",
    "\n"
   ]
  },
  {
   "cell_type": "code",
   "execution_count": null,
   "metadata": {},
   "outputs": [],
   "source": [
    "    #working with the class based \n",
    "##working with the class based\n",
    "class decorator_class(object):\n",
    "    def __init__(self, original_function):\n",
    "        self.original_function = original_function\n",
    "\n",
    "    def __call__(self, *args, **kwargs):\n",
    "        print(f'call method printed this before {self.original_function.__name__}')\n",
    "        result = self.original_function(*args, **kwargs)\n",
    "        return result\n",
    "\n",
    "\n",
    "@decorator_class #this meand update = decorator_func(update)\n",
    "def update():\n",
    "    print('this was printed')\n",
    "    print('here we are')\n",
    "#we dont include func call here because its already up there\n",
    "\n",
    "@decorator_class\n",
    "def display_infor(name, age):\n",
    "    print(f'his name is {name} and age is {age}')\n",
    "\n",
    "display_infor('james', 26)\n",
    "\n",
    "update()  #you must call the fuctions down here \n"
   ]
  },
  {
   "cell_type": "markdown",
   "metadata": {},
   "source": [
    "practical use of python decorator  used with logging, this is a tool that better helps programmers to understand the flow of a program\n",
    "\n",
    "\n",
    "to use two decorators in one method we must utilise wraps on the wrapper function"
   ]
  },
  {
   "cell_type": "code",
   "execution_count": 22,
   "metadata": {},
   "outputs": [
    {
     "name": "stdout",
     "output_type": "stream",
     "text": [
      "my name is jay and my age is 32\n",
      "display_info was executed within 2.0046510696411133 seconds\n"
     ]
    }
   ],
   "source": [
    "import logging\n",
    "import time\n",
    "from functools import wraps\n",
    "\n",
    "\n",
    "def logger_funct(original_function):\n",
    "    \n",
    "    logging.basicConfig(filename=\"{}.log\".format(original_function.__name__), level=logging.INFO)\n",
    "\n",
    "\n",
    "    @wraps(original_function)\n",
    "    def wrapper(*args, **kwargs):\n",
    "        logging.info(f'we are using args: {args} and {kwargs}')\n",
    "        return original_function(*args, **kwargs)\n",
    "    return wrapper\n",
    "\n",
    "\n",
    "def timer(original_function):\n",
    "\n",
    "    @wraps(original_function)\n",
    "    def wrapper(*args, **kwargs):\n",
    "        t1 = time.time()\n",
    "        results = original_function(*args, **kwargs)\n",
    "        t2 = time.time()- t1\n",
    "        print(f'{original_function.__name__} was executed within {t2} seconds')\n",
    "        return results\n",
    "\n",
    "    return wrapper\n",
    "\n",
    "\n",
    "@logger_funct\n",
    "@timer\n",
    "def display_info(name, age):\n",
    "    time.sleep(2)\n",
    "    print(f'my name is {name} and my age is {age}')\n",
    "\n",
    "\n",
    "display_info('jay', 32)"
   ]
  }
 ],
 "metadata": {
  "kernelspec": {
   "display_name": "Python 3.9.2 64-bit",
   "language": "python",
   "name": "python3"
  },
  "language_info": {
   "codemirror_mode": {
    "name": "ipython",
    "version": 3
   },
   "file_extension": ".py",
   "mimetype": "text/x-python",
   "name": "python",
   "nbconvert_exporter": "python",
   "pygments_lexer": "ipython3",
   "version": "3.9.2"
  },
  "orig_nbformat": 4,
  "vscode": {
   "interpreter": {
    "hash": "e7370f93d1d0cde622a1f8e1c04877d8463912d04d973331ad4851f04de6915a"
   }
  }
 },
 "nbformat": 4,
 "nbformat_minor": 2
}
