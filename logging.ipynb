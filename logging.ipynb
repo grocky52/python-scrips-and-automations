{
 "cells": [
  {
   "cell_type": "markdown",
   "metadata": {},
   "source": [
    "logging is a toolkit that allows programmer to understand the flow of a code "
   ]
  },
  {
   "cell_type": "code",
   "execution_count": 6,
   "metadata": {},
   "outputs": [],
   "source": [
    "\n",
    "import logging \n",
    "logging.basicConfig(filename='logging.log', level = logging.INFO, format='%(levelname)s:%(message)s')\n",
    "\n",
    "\n",
    "class employee:\n",
    "    def __init__(self, first, last):\n",
    "        self.first = first\n",
    "        self.last = last\n",
    "\n",
    "\n",
    "        logging.info('create employee: {} - {}'.format(self.fullname, self.email))\n",
    "\n",
    "    @property #build in decorator, here it acts to return the returned value to the main class other than the object as earlier \n",
    "    def email(self):\n",
    "        return '{}.{}@email.com'.format(self.first, self.last)\n",
    "\n",
    "    @property\n",
    "    def fullname(self):\n",
    "        return '{} {}'.format(self.last, self.first)\n",
    "\n",
    "em1 = employee('james', 'ngubia')"
   ]
  }
 ],
 "metadata": {
  "kernelspec": {
   "display_name": "Python 3.9.2 64-bit",
   "language": "python",
   "name": "python3"
  },
  "language_info": {
   "codemirror_mode": {
    "name": "ipython",
    "version": 3
   },
   "file_extension": ".py",
   "mimetype": "text/x-python",
   "name": "python",
   "nbconvert_exporter": "python",
   "pygments_lexer": "ipython3",
   "version": "3.9.2"
  },
  "orig_nbformat": 4,
  "vscode": {
   "interpreter": {
    "hash": "e7370f93d1d0cde622a1f8e1c04877d8463912d04d973331ad4851f04de6915a"
   }
  }
 },
 "nbformat": 4,
 "nbformat_minor": 2
}
