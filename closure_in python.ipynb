{
 "cells": [
  {
   "cell_type": "markdown",
   "metadata": {},
   "source": [
    "closure is an inner function that remember and has access to the variables in the local scope into which it was created"
   ]
  },
  {
   "cell_type": "code",
   "execution_count": 5,
   "metadata": {},
   "outputs": [
    {
     "name": "stdout",
     "output_type": "stream",
     "text": [
      "hi\n"
     ]
    }
   ],
   "source": [
    "# normal functions \n",
    "def outer_func():\n",
    "    message = 'hi'\n",
    "\n",
    "    def inner():\n",
    "        print(message)\n",
    "\n",
    "\n",
    "    return inner\n",
    "\n",
    "my_func = outer_func()"
   ]
  },
  {
   "cell_type": "code",
   "execution_count": 1,
   "metadata": {},
   "outputs": [
    {
     "name": "stdout",
     "output_type": "stream",
     "text": [
      "hi\n",
      "hi\n",
      "hi\n"
     ]
    }
   ],
   "source": [
    "#closure function\n",
    "def outer_func():\n",
    "    message = 'hi'\n",
    "\n",
    "    def inner():\n",
    "        print(message)\n",
    "\n",
    "\n",
    "    return inner\n",
    "\n",
    "my_func = outer_func() #my_func its a function that equals to the inner function because thats what returned \n",
    "my_func()  #this is inner function that has been returned and has acess to the variable passed by outer even after execution thats what closure is \n",
    "my_func()\n",
    "my_func()\n"
   ]
  },
  {
   "cell_type": "code",
   "execution_count": 5,
   "metadata": {},
   "outputs": [
    {
     "ename": "TypeError",
     "evalue": "outer_func() takes 0 positional arguments but 1 was given",
     "output_type": "error",
     "traceback": [
      "\u001b[0;31m---------------------------------------------------------------------------\u001b[0m",
      "\u001b[0;31mTypeError\u001b[0m                                 Traceback (most recent call last)",
      "\u001b[1;32m/home/medusa/Documents/python/scripting/closure_in python.ipynb Cell 4\u001b[0m in \u001b[0;36m<cell line: 10>\u001b[0;34m()\u001b[0m\n\u001b[1;32m      <a href='vscode-notebook-cell:/home/medusa/Documents/python/scripting/closure_in%20python.ipynb#ch0000003?line=5'>6</a>\u001b[0m         \u001b[39mprint\u001b[39m(message)\n\u001b[1;32m      <a href='vscode-notebook-cell:/home/medusa/Documents/python/scripting/closure_in%20python.ipynb#ch0000003?line=7'>8</a>\u001b[0m     \u001b[39mreturn\u001b[39;00m inner_func\n\u001b[0;32m---> <a href='vscode-notebook-cell:/home/medusa/Documents/python/scripting/closure_in%20python.ipynb#ch0000003?line=9'>10</a>\u001b[0m my_func \u001b[39m=\u001b[39m outer_func(\u001b[39m'\u001b[39;49m\u001b[39mhi\u001b[39;49m\u001b[39m'\u001b[39;49m)\n\u001b[1;32m     <a href='vscode-notebook-cell:/home/medusa/Documents/python/scripting/closure_in%20python.ipynb#ch0000003?line=10'>11</a>\u001b[0m my_func()\n",
      "\u001b[0;31mTypeError\u001b[0m: outer_func() takes 0 positional arguments but 1 was given"
     ]
    }
   ],
   "source": [
    "#closure with variable\n",
    "\n",
    "def outer_funct():\n",
    "\n",
    "    def inner_func(message):\n",
    "        print(message)\n",
    "\n",
    "    return inner_func\n",
    "\n",
    "my_func = outer_func('hi')\n",
    "my_func()\n"
   ]
  }
 ],
 "metadata": {
  "kernelspec": {
   "display_name": "Python 3.9.2 64-bit",
   "language": "python",
   "name": "python3"
  },
  "language_info": {
   "codemirror_mode": {
    "name": "ipython",
    "version": 3
   },
   "file_extension": ".py",
   "mimetype": "text/x-python",
   "name": "python",
   "nbconvert_exporter": "python",
   "pygments_lexer": "ipython3",
   "version": "3.9.2"
  },
  "orig_nbformat": 4,
  "vscode": {
   "interpreter": {
    "hash": "e7370f93d1d0cde622a1f8e1c04877d8463912d04d973331ad4851f04de6915a"
   }
  }
 },
 "nbformat": 4,
 "nbformat_minor": 2
}
