{
 "cells": [
  {
   "cell_type": "markdown",
   "metadata": {},
   "source": [
    "as a decorator its used to extennd the functionality of a class or funtion without altering with it \n",
    "in this case the property decorator allows defination of a methon and ability to access it as an attribute \n",
    "\n",
    "with property set you cant be able to change the variable within unless you use setter\n",
    "emp1.fullname = 'mary jane' this wont work withot the setter in place "
   ]
  },
  {
   "cell_type": "code",
   "execution_count": 19,
   "metadata": {},
   "outputs": [
    {
     "name": "stdout",
     "output_type": "stream",
     "text": [
      "mary\n",
      "mary.jane@email.com\n"
     ]
    }
   ],
   "source": [
    "#function to work on\n",
    "class decorator:\n",
    "    def __init__(self, first, last):\n",
    "        self.first = first\n",
    "        self.last = last\n",
    "    @property\n",
    "    def email(self):\n",
    "        return f'{self.first}.{self.last}@email.com'\n",
    "    @property  #propert sshould be there for the setter to work \n",
    "    def fullname(self):\n",
    "        return f'{self.first} {self.last}'\n",
    "\n",
    "    @fullname.setter\n",
    "    def fullname(self, name):\n",
    "        first, last = name.split(' ')\n",
    "        self.first = first\n",
    "        self.last = last\n",
    "\n",
    "\n",
    "    @fullname.deleter\n",
    "    def fullname(self):\n",
    "        \"\"\" self.first = None\n",
    "        self.last = None \"\"\"\n",
    "\n",
    "\n",
    "\n",
    "emp1 = decorator('james', 'ngubia')\n",
    "emp1.fullname = 'mary jane'\n",
    "#emp1.first = 'john'\n",
    "print(emp1.first)\n",
    "print(emp1.email) #calling a mmethod within a class as an attribute\n",
    "del emp1.fullname\n",
    "\n"
   ]
  }
 ],
 "metadata": {
  "kernelspec": {
   "display_name": "Python 3.9.2 64-bit",
   "language": "python",
   "name": "python3"
  },
  "language_info": {
   "codemirror_mode": {
    "name": "ipython",
    "version": 3
   },
   "file_extension": ".py",
   "mimetype": "text/x-python",
   "name": "python",
   "nbconvert_exporter": "python",
   "pygments_lexer": "ipython3",
   "version": "3.9.2"
  },
  "orig_nbformat": 4,
  "vscode": {
   "interpreter": {
    "hash": "e7370f93d1d0cde622a1f8e1c04877d8463912d04d973331ad4851f04de6915a"
   }
  }
 },
 "nbformat": 4,
 "nbformat_minor": 2
}
